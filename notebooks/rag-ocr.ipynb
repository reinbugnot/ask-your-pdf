{
 "cells": [
  {
   "cell_type": "code",
   "execution_count": 10,
   "id": "d5a91d85-ec70-4c02-9ff3-0663464da4c5",
   "metadata": {},
   "outputs": [],
   "source": [
    "from langchain.document_loaders import UnstructuredPDFLoader, PyMuPDFLoader\n",
    "from langchain.vectorstores import FAISS\n",
    "from langchain_openai import OpenAIEmbeddings\n",
    "from langchain.text_splitter import RecursiveCharacterTextSplitter\n",
    "from langchain.tools.retriever import create_retriever_tool\n",
    "from langchain_openai import ChatOpenAI\n",
    "from langgraph.checkpoint.memory import MemorySaver\n",
    "from langgraph.prebuilt import create_react_agent\n",
    "import os"
   ]
  },
  {
   "cell_type": "code",
   "execution_count": 11,
   "id": "1fb2d52d-f4b1-45d1-9437-df5c12c109e1",
   "metadata": {},
   "outputs": [],
   "source": [
    "api_key = os.getenv(\"OPENAI_API_KEY_NUS\")\n",
    "memory = MemorySaver()\n",
    "llm = ChatOpenAI(model=\"gpt-4o-mini\", temperature=0, api_key=api_key)"
   ]
  },
  {
   "cell_type": "code",
   "execution_count": 12,
   "id": "30f48a43-627a-4082-8053-b6fb809f6dd9",
   "metadata": {},
   "outputs": [],
   "source": [
    "# Load the PDF document\n",
    "loader = UnstructuredPDFLoader(file_path=\"./data/CERT_RAG.pdf\")\n",
    "docs = loader.load()\n",
    "\n",
    "# Split the document into manageable chunks\n",
    "text_splitter = RecursiveCharacterTextSplitter(chunk_size=1000, chunk_overlap=200)\n",
    "splits = text_splitter.split_documents(docs)"
   ]
  },
  {
   "cell_type": "code",
   "execution_count": 18,
   "id": "8b5e7b7a-13e0-4190-bb1a-740cf471a15f",
   "metadata": {},
   "outputs": [],
   "source": [
    "# Create vector store from the document chunks\n",
    "vectorstore = FAISS.from_documents(\n",
    "    documents=splits, embedding=OpenAIEmbeddings()\n",
    ")\n",
    "\n",
    "# Set up the retriever\n",
    "retriever = vectorstore.as_retriever(search_type=\"similarity\")"
   ]
  },
  {
   "cell_type": "code",
   "execution_count": 19,
   "id": "8e4b2c00-4bf5-4e8b-8599-276a227838c5",
   "metadata": {},
   "outputs": [],
   "source": [
    "### Build retriever tool ###\n",
    "tool = create_retriever_tool(\n",
    "    retriever,\n",
    "    \"pdf_retriever\",\n",
    "    \"Searches and returns excerpts from the uploaded PDF document.\",\n",
    ")\n",
    "tools = [tool]\n",
    "\n",
    "agent_executor = create_react_agent(llm, tools, checkpointer=memory)"
   ]
  },
  {
   "cell_type": "code",
   "execution_count": 22,
   "id": "730b9666-b4fd-4033-8afd-790a19d2de06",
   "metadata": {},
   "outputs": [],
   "source": [
    "query = \"What is one element teams preset during the draft plan review? (a) ART PI risks (b) Planned Business Value (c) Milestones (d) Iteration Goals\""
   ]
  },
  {
   "cell_type": "code",
   "execution_count": 23,
   "id": "a1684a13-cab7-4b6e-bde3-92ba3e2dca93",
   "metadata": {},
   "outputs": [
    {
     "name": "stdout",
     "output_type": "stream",
     "text": [
      "================================\u001b[1m Human Message \u001b[0m=================================\n",
      "\n",
      "What is one element teams preset during the draft plan review? (a) ART PI risks (b) Planned Business Value (c) Milestones (d) Iteration Goals\n",
      "==================================\u001b[1m Ai Message \u001b[0m==================================\n",
      "\n",
      "One element teams present during the draft plan review is (b) Planned Business Value.\n"
     ]
    }
   ],
   "source": [
    "from langchain_core.messages import AIMessage, HumanMessage\n",
    "\n",
    "config = {\"configurable\": {\"thread_id\": \"abc123\"}}\n",
    "\n",
    "for event in agent_executor.stream(\n",
    "    {\"messages\": [HumanMessage(content=query)]},\n",
    "    config=config,\n",
    "    stream_mode=\"values\",\n",
    "):\n",
    "    event[\"messages\"][-1].pretty_print()"
   ]
  },
  {
   "cell_type": "code",
   "execution_count": null,
   "id": "dff22112-cceb-4f55-af20-06866cf3b5d8",
   "metadata": {},
   "outputs": [],
   "source": []
  }
 ],
 "metadata": {
  "kernelspec": {
   "display_name": "Python 3 (ipykernel)",
   "language": "python",
   "name": "python3"
  },
  "language_info": {
   "codemirror_mode": {
    "name": "ipython",
    "version": 3
   },
   "file_extension": ".py",
   "mimetype": "text/x-python",
   "name": "python",
   "nbconvert_exporter": "python",
   "pygments_lexer": "ipython3",
   "version": "3.11.10"
  }
 },
 "nbformat": 4,
 "nbformat_minor": 5
}
