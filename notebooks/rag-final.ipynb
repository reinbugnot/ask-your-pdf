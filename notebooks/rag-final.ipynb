{
 "cells": [
  {
   "cell_type": "code",
   "execution_count": 1,
   "id": "d5a91d85-ec70-4c02-9ff3-0663464da4c5",
   "metadata": {},
   "outputs": [],
   "source": [
    "from langchain.document_loaders import PyPDFLoader\n",
    "from langchain.vectorstores import FAISS\n",
    "from langchain_openai import OpenAIEmbeddings  # Updated import\n",
    "from langchain.text_splitter import RecursiveCharacterTextSplitter\n",
    "from langchain.tools.retriever import create_retriever_tool\n",
    "from langchain_openai import ChatOpenAI\n",
    "from langgraph.checkpoint.memory import MemorySaver\n",
    "from langgraph.prebuilt import create_react_agent\n",
    "from langchain_core.messages import AIMessage, HumanMessage\n",
    "import os\n",
    "import numpy as np"
   ]
  },
  {
   "cell_type": "code",
   "execution_count": 2,
   "id": "1fb2d52d-f4b1-45d1-9437-df5c12c109e1",
   "metadata": {},
   "outputs": [],
   "source": [
    "memory = MemorySaver()\n",
    "api_key = os.getenv(\"OPENAI_API_KEY_NUS\")\n",
    "llm = ChatOpenAI(model=\"gpt-4o-mini\", temperature=0, api_key=api_key)"
   ]
  },
  {
   "cell_type": "code",
   "execution_count": 3,
   "id": "30f48a43-627a-4082-8053-b6fb809f6dd9",
   "metadata": {},
   "outputs": [],
   "source": [
    "# Load the PDF document\n",
    "loader = PyPDFLoader(file_path=\"./data/CERT_RAG.pdf\")\n",
    "docs = loader.load()\n",
    "\n",
    "# Split the document into manageable chunks\n",
    "text_splitter = RecursiveCharacterTextSplitter(chunk_size=1000, chunk_overlap=200)\n",
    "splits = text_splitter.split_documents(docs)"
   ]
  },
  {
   "cell_type": "code",
   "execution_count": 4,
   "id": "8b5e7b7a-13e0-4190-bb1a-740cf471a15f",
   "metadata": {},
   "outputs": [],
   "source": [
    "# Create the vector store using FAISS\n",
    "vectorstore = FAISS.from_documents(\n",
    "    documents=splits, embedding=OpenAIEmbeddings()\n",
    ")\n",
    "\n",
    "# Set up the retriever\n",
    "retriever = vectorstore.as_retriever()"
   ]
  },
  {
   "cell_type": "code",
   "execution_count": 5,
   "id": "8e4b2c00-4bf5-4e8b-8599-276a227838c5",
   "metadata": {},
   "outputs": [],
   "source": [
    "### Build retriever tool ###\n",
    "tool = create_retriever_tool(\n",
    "    retriever,\n",
    "    \"pdf_retriever\",\n",
    "    \"Searches and returns excerpts from the uploaded PDF document.\",\n",
    ")\n",
    "tools = [tool]\n",
    "\n",
    "agent_executor = create_react_agent(llm, tools, checkpointer=memory)"
   ]
  },
  {
   "cell_type": "code",
   "execution_count": 6,
   "id": "e6135eaf-079e-4839-8e9e-f13f131532b4",
   "metadata": {},
   "outputs": [],
   "source": [
    "def read_question_from_txt(file_path):\n",
    "    # Read the contents of the .txt file\n",
    "    with open(file_path, 'r', encoding='utf-8') as file:\n",
    "        lines = file.readlines()\n",
    "    \n",
    "    # Extract the question and choices\n",
    "    question = lines[0].strip()  # First line is the question\n",
    "    choice_a = lines[1].strip()  # Second line is choice A\n",
    "    choice_b = lines[2].strip()  # Third line is choice B\n",
    "    choice_c = lines[3].strip()  # Fourth line is choice C\n",
    "    choice_d = lines[4].strip()  # Fifth line is choice D\n",
    "\n",
    "    # Format the query string\n",
    "    query = f\"{question}\\n (a) {choice_a}\\n (b) {choice_b}\\n (c) {choice_c}\\n (d) {choice_d}\"\n",
    "    return query"
   ]
  },
  {
   "cell_type": "markdown",
   "id": "11f0b49b-9af8-4e61-989c-21e4c2af9e6e",
   "metadata": {},
   "source": [
    "### Run this (SHIFT+ENTER)"
   ]
  },
  {
   "cell_type": "code",
   "execution_count": 7,
   "id": "a1684a13-cab7-4b6e-bde3-92ba3e2dca93",
   "metadata": {},
   "outputs": [
    {
     "name": "stdout",
     "output_type": "stream",
     "text": [
      "================================\u001b[1m Human Message \u001b[0m=================================\n",
      "\n",
      "Which of the following activities occurs during the Inspect and Adapt workshop?\n",
      " (a) A demo of the integrated system\n",
      " (b) The tea breakout session\n",
      " (c) Minimizing handoffs and dependencies\n",
      " (d) The PI confidence vote\n",
      "==================================\u001b[1m Ai Message \u001b[0m==================================\n",
      "Tool Calls:\n",
      "  pdf_retriever (call_RRJZuNbvKWXP3emPdgms00S0)\n",
      " Call ID: call_RRJZuNbvKWXP3emPdgms00S0\n",
      "  Args:\n",
      "    query: Inspect and Adapt workshop activities\n",
      "=================================\u001b[1m Tool Message \u001b[0m=================================\n",
      "Name: pdf_retriever\n",
      "\n",
      "Home  » Inspect and Adapt\n",
      "Inspect and Adapt\n",
      "Kaizen is about changing the way things are. If you assume that things are all\n",
      "right the way they are, you can’t do kaizen. So change something!\n",
      "Definition:  The Inspect and Adapt (I&A) is a significant event held at the end of each PI, where\n",
      "the current state of the Solution is demonstrated and evaluated. T eams then reflect and identify\n",
      "improvement backlog items via a structured problem-solving workshop.\n",
      "Summar y\n",
      "The Inspect and Adapt (I&A) is an Agile R elease T rain (AR T) event. It engages all AR T\n",
      "stakeholders alongside the Agile T eams in reflecting on progress and identifying\n",
      "improvements. It is structured into three parts, the PI S ystem Demo, a quantitative and\n",
      "qualitative measurement review, and a retrospective and problem-solving workshop. The goal\n",
      "of the Inspect and Adapt is to make the AR T better by identifying and solving big issues. This\n",
      "is done by focusing on what has actually happened over the last PI rather than what was\n",
      "\n",
      "improvements may be necessary. This validates the effectiveness of what initially seems like a\n",
      "great idea, ensuring efforts focus on ideas that achieve desired outcomes.\n",
      "The Inspect and Adapt, as well as the actions taken following the event, drive continuous\n",
      "improvement and collaboration. The practice ultimately delivers better business outcomes and\n",
      "happier employees.\n",
      "Login t o access SAFe S tudio practical t ools\n",
      "PI Execution T oolkit\n",
      "In this ar ticle\n",
      "What is Inspect and Adapt in SAFe?\n",
      "How t o run an Inspect and Adapt ev ent?\n",
      "How t o apply the impr ovements identified\n",
      "in the Inspect and Adapt ?\n",
      "Key Takeaways\n",
      "The Inspect and Adapt (I&A) event supports\n",
      "relentless improvement across the Agile\n",
      "Release T rain (AR T) and its stakeholders.\n",
      "The I&A event has three main parts that work\n",
      "together to achieve the outcome of actionable\n",
      "improvements.\n",
      "\n",
      "of the Inspect and Adapt is to make the AR T better by identifying and solving big issues. This\n",
      "is done by focusing on what has actually happened over the last PI rather than what was\n",
      "supposed to happen.\n",
      "What is Inspect and Adapt in SAFe?\n",
      "Inspect and Adapt (I&A) is a significant event for continuous improvement. Held at the end of\n",
      "each PI, this event is structured to demonstrate progress, review current and meaningful\n",
      "measurements, and create actionable improvements.\n",
      "The Agile Manifesto emphasizes the importance of continuous improvement through the\n",
      "following principle: “At regular intervals, the team reflects on how to become more effective, then  ENGLISH (US)\n",
      "—Taiichi Ohno“Introducing the new SAFe Big Picture and enhanced framework articles\n",
      "+ Framew ork\n",
      "\n",
      "IP Iteration during PI planning. Instead, they coach teams to use this iteration as an\n",
      "estimating buffer for meeting PI objectives and providing dedicated time for innovation,\n",
      "continuing education, PI planning, and the Inspect and Adapt (I&A) events.\n",
      "Help the t eam inspect & adapt – Ensures the team is prepared for the Inspect & Adapt\n",
      "event, including the PI S ystem Demo, quantitative and qualitative measurement, and the\n",
      "retrospective and problem-solving workshop. They help guide the team in the I&A\n",
      "activities and stay within the allotted timeboxes.\n",
      "Facilitat e the pr oblem-solving w orkshop  – SM/T Cs coach teams in root cause analysis,\n",
      "the ‘five whys,’ [5] and P areto analysis [6]. They ensure that the relevant work needed to\n",
      "deliver the identified improvements is planned and added to the T eam Backlog.\n",
      "Full or P art-Time R ole?\n",
      "The SM/T C can be a part-time or full-time role, depending on the size of the team, the context,\n",
      "==================================\u001b[1m Ai Message \u001b[0m==================================\n",
      "\n",
      "During the Inspect and Adapt workshop, the following activities occur:\n",
      "\n",
      "(a) A demo of the integrated system - **Yes**, this is part of the PI System Demo, which is one of the three main parts of the workshop.\n",
      "\n",
      "(b) The tea breakout session - **No**, this is not mentioned as part of the activities.\n",
      "\n",
      "(c) Minimizing handoffs and dependencies - **No**, while this may be a goal of the overall process, it is not specifically listed as an activity during the workshop.\n",
      "\n",
      "(d) The PI confidence vote - **Yes**, this is typically part of the retrospective and problem-solving workshop where teams reflect on their confidence in the PI objectives.\n",
      "\n",
      "Therefore, the correct activities that occur during the Inspect and Adapt workshop are (a) and (d).\n"
     ]
    }
   ],
   "source": [
    "file_path = './rag-input.txt'\n",
    "query = read_question_from_txt(file_path)\n",
    "\n",
    "config = {\"configurable\": {\"thread_id\": \"abc123\"}}\n",
    "\n",
    "for event in agent_executor.stream(\n",
    "    {\"messages\": [HumanMessage(content=query)]},\n",
    "    config=config,\n",
    "    stream_mode=\"values\",\n",
    "):\n",
    "    event[\"messages\"][-1].pretty_print()"
   ]
  }
 ],
 "metadata": {
  "kernelspec": {
   "display_name": "Python 3 (ipykernel)",
   "language": "python",
   "name": "python3"
  },
  "language_info": {
   "codemirror_mode": {
    "name": "ipython",
    "version": 3
   },
   "file_extension": ".py",
   "mimetype": "text/x-python",
   "name": "python",
   "nbconvert_exporter": "python",
   "pygments_lexer": "ipython3",
   "version": "3.11.10"
  }
 },
 "nbformat": 4,
 "nbformat_minor": 5
}
